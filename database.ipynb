{
 "cells": [
  {
   "cell_type": "code",
   "execution_count": 1,
   "id": "1f9bd74a-8e5e-409a-a150-4c320f70fcf3",
   "metadata": {},
   "outputs": [],
   "source": [
    "import sqlite3"
   ]
  },
  {
   "cell_type": "code",
   "execution_count": null,
   "id": "1731d5ec-b00f-42a5-84d4-e83a13364590",
   "metadata": {},
   "outputs": [],
   "source": [
    "# dbname, username, sql service  \n",
    "# sql workbench, sql server "
   ]
  },
  {
   "cell_type": "markdown",
   "id": "fdd1a03e-1aa4-441c-a82b-2095d95afe55",
   "metadata": {},
   "source": [
    "import mysql.connector\n",
    "\n",
    "Establish the connection\n",
    "\n",
    "```\n",
    "cnx = mysql.connector.connect(\n",
    "user='your_username',\n",
    "password='your_password',\n",
    "host='127.0.0.1',\n",
    "database='your_database'\n",
    ")\n",
    "```"
   ]
  },
  {
   "cell_type": "code",
   "execution_count": 3,
   "id": "d658854e-88b5-4a1f-87fc-4d144794c83f",
   "metadata": {},
   "outputs": [],
   "source": [
    "conn=sqlite3.connect(\"creds.db\")"
   ]
  },
  {
   "cell_type": "code",
   "execution_count": 4,
   "id": "8a09da92-e0f5-4d2f-99ec-ee9fcb148279",
   "metadata": {},
   "outputs": [
    {
     "data": {
      "text/plain": [
       "<sqlite3.Connection at 0x1ea76daf880>"
      ]
     },
     "execution_count": 4,
     "metadata": {},
     "output_type": "execute_result"
    }
   ],
   "source": [
    "conn"
   ]
  },
  {
   "cell_type": "code",
   "execution_count": 5,
   "id": "e296fc36-bbd4-4607-bcd6-26a318729b78",
   "metadata": {},
   "outputs": [],
   "source": [
    "cursor=conn.cursor() "
   ]
  },
  {
   "cell_type": "code",
   "execution_count": 6,
   "id": "64bec742-74c1-4b62-88af-c132142e3d7f",
   "metadata": {},
   "outputs": [
    {
     "data": {
      "text/plain": [
       "<sqlite3.Cursor at 0x1ea76fc9fc0>"
      ]
     },
     "execution_count": 6,
     "metadata": {},
     "output_type": "execute_result"
    }
   ],
   "source": [
    "cursor"
   ]
  },
  {
   "cell_type": "markdown",
   "id": "d7423e40-2be3-42c5-a4a4-d93b80756cc1",
   "metadata": {},
   "source": [
    "### Created a table"
   ]
  },
  {
   "cell_type": "code",
   "execution_count": 8,
   "id": "d5f25757-c99b-401f-a863-fb574eb89392",
   "metadata": {},
   "outputs": [
    {
     "data": {
      "text/plain": [
       "<sqlite3.Cursor at 0x1ea76fc9fc0>"
      ]
     },
     "execution_count": 8,
     "metadata": {},
     "output_type": "execute_result"
    }
   ],
   "source": [
    "cursor.execute(\"\"\"\n",
    "Create table if not exists userdata (\n",
    "id Integer primary key autoincrement,\n",
    "name text not null,\n",
    "email text not null unique,\n",
    "password text not null )\n",
    "\"\"\")"
   ]
  },
  {
   "cell_type": "markdown",
   "id": "4efbb94b-2015-41f8-b151-90eeadf10db5",
   "metadata": {},
   "source": [
    "### Inserted a record"
   ]
  },
  {
   "cell_type": "code",
   "execution_count": null,
   "id": "39642beb-fbaf-4641-9f95-fa0d0f70841c",
   "metadata": {},
   "outputs": [],
   "source": [
    "##insert a record\n",
    "cursor.execute(\" Insert into userdata(name,email,password) VALUES (?,?,?)\", (\"Alice\",  \"alice@gmail.com\", \"qwerty\")) "
   ]
  },
  {
   "cell_type": "markdown",
   "id": "ebc3660a-7a2e-4478-8baa-d556219feebb",
   "metadata": {},
   "source": [
    "### Fetching the data "
   ]
  },
  {
   "cell_type": "code",
   "execution_count": 10,
   "id": "da3e1e30-7adf-41cb-bee8-c369cf3f6592",
   "metadata": {},
   "outputs": [
    {
     "data": {
      "text/plain": [
       "<sqlite3.Cursor at 0x1ea76fc9fc0>"
      ]
     },
     "execution_count": 10,
     "metadata": {},
     "output_type": "execute_result"
    }
   ],
   "source": [
    "## query data \n",
    "cursor.execute(\"Select * from userdata\")"
   ]
  },
  {
   "cell_type": "code",
   "execution_count": 11,
   "id": "3e268bea-dc53-41f9-9e9e-cbf67935ad54",
   "metadata": {},
   "outputs": [],
   "source": [
    "rows=cursor.fetchall()"
   ]
  },
  {
   "cell_type": "code",
   "execution_count": 12,
   "id": "ff276f94-48a5-45f9-a1d9-ad41aa2678df",
   "metadata": {},
   "outputs": [
    {
     "data": {
      "text/plain": [
       "[(1, 'Alice', 'alice@gmail.com', 'qwerty')]"
      ]
     },
     "execution_count": 12,
     "metadata": {},
     "output_type": "execute_result"
    }
   ],
   "source": [
    "rows"
   ]
  },
  {
   "cell_type": "code",
   "execution_count": 13,
   "id": "1de1c25f-cf2b-44de-9999-01af4d66eddb",
   "metadata": {},
   "outputs": [
    {
     "data": {
      "text/plain": [
       "<sqlite3.Cursor at 0x1ea76fc9fc0>"
      ]
     },
     "execution_count": 13,
     "metadata": {},
     "output_type": "execute_result"
    }
   ],
   "source": [
    "cursor.execute(\"DROP TABLE userdata\")"
   ]
  },
  {
   "cell_type": "code",
   "execution_count": 14,
   "id": "35b2d280-d73a-40b7-b7fb-933f014a65cd",
   "metadata": {},
   "outputs": [
    {
     "ename": "OperationalError",
     "evalue": "no such table: userdata",
     "output_type": "error",
     "traceback": [
      "\u001b[1;31m---------------------------------------------------------------------------\u001b[0m",
      "\u001b[1;31mOperationalError\u001b[0m                          Traceback (most recent call last)",
      "Cell \u001b[1;32mIn[14], line 2\u001b[0m\n\u001b[0;32m      1\u001b[0m \u001b[38;5;66;03m## query data \u001b[39;00m\n\u001b[1;32m----> 2\u001b[0m cursor\u001b[38;5;241m.\u001b[39mexecute(\u001b[38;5;124m\"\u001b[39m\u001b[38;5;124mSelect * from userdata\u001b[39m\u001b[38;5;124m\"\u001b[39m)\n",
      "\u001b[1;31mOperationalError\u001b[0m: no such table: userdata"
     ]
    }
   ],
   "source": [
    "## query data \n",
    "cursor.execute(\"Select * from userdata\")"
   ]
  },
  {
   "cell_type": "code",
   "execution_count": null,
   "id": "073437c4-ecf3-4c96-a629-f9a66893103b",
   "metadata": {},
   "outputs": [],
   "source": []
  }
 ],
 "metadata": {
  "kernelspec": {
   "display_name": "Python 3 (ipykernel)",
   "language": "python",
   "name": "python3"
  },
  "language_info": {
   "codemirror_mode": {
    "name": "ipython",
    "version": 3
   },
   "file_extension": ".py",
   "mimetype": "text/x-python",
   "name": "python",
   "nbconvert_exporter": "python",
   "pygments_lexer": "ipython3",
   "version": "3.12.7"
  }
 },
 "nbformat": 4,
 "nbformat_minor": 5
}
